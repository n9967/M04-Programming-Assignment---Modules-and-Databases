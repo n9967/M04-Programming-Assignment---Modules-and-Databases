{
 "cells": [
  {
   "cell_type": "code",
   "execution_count": 1,
   "id": "e952bee6",
   "metadata": {},
   "outputs": [
    {
     "ename": "ModuleNotFoundError",
     "evalue": "No module named 'zoo'",
     "output_type": "error",
     "traceback": [
      "\u001b[1;31m---------------------------------------------------------------------------\u001b[0m",
      "\u001b[1;31mModuleNotFoundError\u001b[0m                       Traceback (most recent call last)",
      "Cell \u001b[1;32mIn[1], line 2\u001b[0m\n\u001b[0;32m      1\u001b[0m \u001b[38;5;66;03m#11.2\u001b[39;00m\n\u001b[1;32m----> 2\u001b[0m \u001b[38;5;28;01mimport\u001b[39;00m \u001b[38;5;21;01mzoo\u001b[39;00m\n\u001b[0;32m      5\u001b[0m zoo\u001b[38;5;241m.\u001b[39mhours()\n\u001b[0;32m      6\u001b[0m \u001b[38;5;66;03m#16.8\u001b[39;00m\n",
      "\u001b[1;31mModuleNotFoundError\u001b[0m: No module named 'zoo'"
     ]
    }
   ],
   "source": [
    "#11.2\n",
    "import zoo\n",
    "\n",
    "\n",
    "zoo.hours()\n",
    "#16.8\n",
    "from sqlalchemy import create_engine, select, Table, Column, String, Integer\n",
    "#Create sql connection\n",
    "engine = create_engine('sqlite:///books.db', echo=True)\n",
    "\n",
    "metadata = Table(\n",
    "    'books',\n",
    "    Column('id', Integer, primary_key=True),\n",
    "    Column('title', String),\n",
    "    Column('author', String),\n",
    "    Column('year', Integer)\n",
    ")\n",
    "\n",
    "connection = engine.connect()\n",
    "\n",
    "select_statement = select([metadata.c.title]).order_by(metadata.c.title)\n",
    "\n",
    "results = connection.execute(select_statement).fetchall()\n",
    "\n",
    "# Print the titles in alphabetical order\n",
    "for row in results:\n",
    "    print(row.title)\n",
    "\n",
    "# Close the database connection\n",
    "connection.close()\n",
    "\n"
   ]
  },
  {
   "cell_type": "code",
   "execution_count": null,
   "id": "1cdd7033",
   "metadata": {},
   "outputs": [],
   "source": []
  }
 ],
 "metadata": {
  "kernelspec": {
   "display_name": "Python 3 (ipykernel)",
   "language": "python",
   "name": "python3"
  },
  "language_info": {
   "codemirror_mode": {
    "name": "ipython",
    "version": 3
   },
   "file_extension": ".py",
   "mimetype": "text/x-python",
   "name": "python",
   "nbconvert_exporter": "python",
   "pygments_lexer": "ipython3",
   "version": "3.11.4"
  }
 },
 "nbformat": 4,
 "nbformat_minor": 5
}
